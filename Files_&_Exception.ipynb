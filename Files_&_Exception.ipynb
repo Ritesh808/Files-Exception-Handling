{
  "nbformat": 4,
  "nbformat_minor": 0,
  "metadata": {
    "colab": {
      "provenance": []
    },
    "kernelspec": {
      "name": "python3",
      "display_name": "Python 3"
    },
    "language_info": {
      "name": "python"
    }
  },
  "cells": [
    {
      "cell_type": "code",
      "execution_count": null,
      "metadata": {
        "id": "LtddPgxxjpr4"
      },
      "outputs": [],
      "source": []
    },
    {
      "cell_type": "markdown",
      "source": [
        "1. What is the difference between interpreted and compiled languages?\n",
        "\n",
        "- Interpreted languages execute code line by line, while compiled languages convert the entire code into machine code before running.\n",
        "Example: Python is interpreted, while C is compiled.\n",
        "\n",
        "2. What is exception handling in Python?\n",
        "\n",
        "- Exception handling allows a program to deal with runtime errors using try, except, else, and finally blocks to prevent crashes.\n",
        "\n",
        "3. What is the purpose of the finally block in exception handling?\n",
        "\n",
        "- The finally block executes no matter what—whether an exception occurs or not. It’s used for cleanup operations like closing files.\n",
        "\n",
        "4. What is logging in Python?\n",
        "\n",
        "- Logging records messages about program execution, which helps developers debug and monitor code behavior.\n",
        "\n",
        "5. What is the significance of the __del__ method in Python?\n",
        "\n",
        "- The __del__ method is a destructor called automatically when an object is deleted or goes out of scope.\n",
        "\n",
        "6. What is the difference between import and from ... import in Python?\n",
        "\n",
        "- import brings the entire module, while from ... import imports specific functions or variables.\n",
        "\n",
        "  Example:\n",
        "\n",
        "  import math\n",
        "\n",
        "  from math import sqrt\n",
        "\n",
        "7. How can you handle multiple exceptions in Python?\n",
        "\n",
        "- You can use multiple except blocks or a tuple of exceptions.\n",
        "\n",
        "  Example:\n",
        "\n",
        " try:\n",
        "    x = int(\"abc\")\n",
        "\n",
        "except (ValueError, TypeError):\n",
        "\n",
        "    print(\"Error occurred\")\n",
        "\n",
        "8. What is the purpose of the with statement when handling files in Python?\n",
        "\n",
        "- It automatically opens and closes files safely, even if an error occurs.\n",
        "\n",
        "  Example:\n",
        "\n",
        "  with open(\"data.txt\") as f:\n",
        "\n",
        "    print(f.read())\n",
        "\n",
        "9. What is the difference between multithreading and multiprocessing?\n",
        "\n",
        "- Multithreading runs multiple threads within a single process; multiprocessing runs multiple processes on separate CPUs.\n",
        "\n",
        "10. What are the advantages of using logging in a program?\n",
        "\n",
        "- It helps track events, detect issues, and understand program behavior without using print statements.\n",
        "\n",
        "11. What is memory management in Python?\n",
        "\n",
        "- It is the process of allocating and freeing memory automatically using Python’s garbage collector.\n",
        "\n",
        "12. What are the basic steps involved in exception handling in Python?\n",
        "\n",
        "- Write code in a try block.\n",
        "\n",
        "  Handle errors in except.\n",
        "\n",
        "  Optionally use else for successful runs.\n",
        "\n",
        "  Use finally for cleanup.\n",
        "\n",
        "13. Why is memory management important in Python?\n",
        "\n",
        "- It ensures efficient use of memory and prevents memory leaks.\n",
        "\n",
        "14. What is the role of try and except in exception handling?\n",
        "\n",
        "- try contains risky code, and except defines what to do if an error happens.\n",
        "\n",
        "15. How does Python's garbage collection system work?\n",
        "\n",
        "- It removes unused objects automatically when their reference count becomes zero.\n",
        "\n",
        "16. What is the purpose of the else block in exception handling?\n",
        "\n",
        "- It runs only if no exception occurs inside the try block.\n",
        "\n",
        "17. What are the common logging levels in Python?\n",
        "\n",
        "- DEBUG, INFO, WARNING, ERROR, and CRITICAL.\n",
        "\n",
        "18. What is the difference between os.fork() and multiprocessing in Python?\n",
        "\n",
        "- os.fork() works only on Unix and creates a child process; multiprocessing works on all platforms.\n",
        "\n",
        "19. What is the importance of closing a file in Python?\n",
        "\n",
        "- It ensures data is saved and system resources are released.\n",
        "\n",
        "20. What is the difference between file.read() and file.readline() in Python?\n",
        "\n",
        "- file.read() reads the whole file at once, while file.readline() reads one line at a time.\n",
        "\n",
        "21. What is the logging module in Python used for?\n",
        "\n",
        "- It is used to record log messages for debugging, tracking, or auditing.\n",
        "\n",
        "22. What is the os module in Python used for in file handling?\n",
        "\n",
        "- It helps with file and directory operations like renaming, deleting, and navigating paths.\n",
        "\n",
        "23. What are the challenges associated with memory management in Python?\n",
        "\n",
        "- They include circular references, handling large data, and ensuring timely garbage collection.\n",
        "\n",
        "24. How do you raise an exception manually in Python?\n",
        "\n",
        "- You can use the raise keyword.\n",
        "\n",
        "  Example:\n",
        "\n",
        "  raise ValueError(\"Invalid input\")\n",
        "\n",
        "25. Why is it important to use multithreading in certain applications?\n",
        "\n",
        "- It improves speed and efficiency for I/O-based tasks like file handling or network requests."
      ],
      "metadata": {
        "id": "LmkbCzEkj0R9"
      }
    },
    {
      "cell_type": "code",
      "source": [
        "#1. How can you open a file for writing in Python and write a string to it?\n",
        "with open(\"example.txt\", \"w\") as f:\n",
        "    f.write(\"Hello, Python!\")"
      ],
      "metadata": {
        "id": "j3HoxqQ3lWVd"
      },
      "execution_count": null,
      "outputs": []
    },
    {
      "cell_type": "code",
      "source": [
        "#2. Write a Python program to read the contents of a file and print each line.\n",
        "with open(\"example.txt\", \"r\") as f:\n",
        "    for line in f:\n",
        "        print(line.strip())"
      ],
      "metadata": {
        "colab": {
          "base_uri": "https://localhost:8080/"
        },
        "id": "Wz0VOaFmlWZk",
        "outputId": "ab0564d6-11b2-4467-eef4-396beb84d163"
      },
      "execution_count": null,
      "outputs": [
        {
          "output_type": "stream",
          "name": "stdout",
          "text": [
            "Hello, Python!\n"
          ]
        }
      ]
    },
    {
      "cell_type": "code",
      "source": [
        "#3. How would you handle a case where the file doesn't exist while trying to open it for reading?\n",
        "try:\n",
        "    with open(\"nofile.txt\", \"r\") as f:\n",
        "        print(f.read())\n",
        "except FileNotFoundError:\n",
        "    print(\"File not found.\")"
      ],
      "metadata": {
        "colab": {
          "base_uri": "https://localhost:8080/"
        },
        "id": "MLf_zuF4lWdL",
        "outputId": "d068c8c1-3d12-4fa5-8492-a5eea94846c2"
      },
      "execution_count": null,
      "outputs": [
        {
          "output_type": "stream",
          "name": "stdout",
          "text": [
            "File not found.\n"
          ]
        }
      ]
    },
    {
      "cell_type": "code",
      "source": [
        "#4. Write a Python script that reads from one file and writes its content to another file.\n",
        "with open(\"source.txt\", \"r\") as src, open(\"target.txt\", \"w\") as dst:\n",
        "    for line in src:\n",
        "        dst.write(line)"
      ],
      "metadata": {
        "id": "9QhbsDb_lWhD"
      },
      "execution_count": 3,
      "outputs": []
    },
    {
      "cell_type": "code",
      "source": [
        "#5. How would you catch and handle division by zero error in Python?\n",
        "try:\n",
        "    x = 10 / 0\n",
        "except ZeroDivisionError:\n",
        "    print(\"Cannot divide by zero.\")"
      ],
      "metadata": {
        "colab": {
          "base_uri": "https://localhost:8080/"
        },
        "id": "GW5uLfJ4lWk7",
        "outputId": "d8488ab9-4dc1-4ab3-f432-2c95581631ba"
      },
      "execution_count": null,
      "outputs": [
        {
          "output_type": "stream",
          "name": "stdout",
          "text": [
            "Cannot divide by zero.\n"
          ]
        }
      ]
    },
    {
      "cell_type": "code",
      "source": [
        "#6. Write a Python program that logs an error message to a log file when a division by zero exception occurs.\n",
        "import logging\n",
        "\n",
        "logging.basicConfig(filename=\"error.log\", level=logging.ERROR)\n",
        "\n",
        "try:\n",
        "    x = 10 / 0\n",
        "except ZeroDivisionError:\n",
        "    logging.error(\"Division by zero error occurred.\")"
      ],
      "metadata": {
        "colab": {
          "base_uri": "https://localhost:8080/"
        },
        "id": "AnYOU_rhlWpl",
        "outputId": "45bcf0a0-abd7-4b3c-8ffb-26d44272eef9"
      },
      "execution_count": null,
      "outputs": [
        {
          "output_type": "stream",
          "name": "stderr",
          "text": [
            "ERROR:root:Division by zero error occurred.\n"
          ]
        }
      ]
    },
    {
      "cell_type": "code",
      "source": [
        "#7. How do you log information at different levels in Python using the logging module?\n",
        "import logging\n",
        "\n",
        "logging.basicConfig(level=logging.DEBUG)\n",
        "logging.info(\"Information message\")\n",
        "logging.warning(\"Warning message\")\n",
        "logging.error(\"Error message\")"
      ],
      "metadata": {
        "colab": {
          "base_uri": "https://localhost:8080/"
        },
        "id": "UVT_E1LQlWtQ",
        "outputId": "0bc991d1-d7f1-4215-de61-ff80af7efdc4"
      },
      "execution_count": null,
      "outputs": [
        {
          "output_type": "stream",
          "name": "stderr",
          "text": [
            "WARNING:root:Warning message\n",
            "ERROR:root:Error message\n"
          ]
        }
      ]
    },
    {
      "cell_type": "code",
      "source": [
        "#8. Write a program to handle a file opening error using exception handling.\n",
        "try:\n",
        "    with open(\"test.txt\") as f:\n",
        "        print(f.read())\n",
        "except IOError:\n",
        "    print(\"Error opening file.\")"
      ],
      "metadata": {
        "colab": {
          "base_uri": "https://localhost:8080/"
        },
        "id": "ZFshrJpVlWw5",
        "outputId": "a6942746-c4bb-4d18-f62f-0988d07193d1"
      },
      "execution_count": null,
      "outputs": [
        {
          "output_type": "stream",
          "name": "stdout",
          "text": [
            "Error opening file.\n"
          ]
        }
      ]
    },
    {
      "cell_type": "code",
      "source": [
        "#9. How can you read a file line by line and store its content in a list in Python?\n",
        "with open(\"data.txt\") as f:\n",
        "    lines = f.readlines()\n",
        "print(lines)\n"
      ],
      "metadata": {
        "colab": {
          "base_uri": "https://localhost:8080/"
        },
        "id": "vSMVGXcplW06",
        "outputId": "793b5d14-7d98-47fb-b711-d1e2766f6ad8"
      },
      "execution_count": 5,
      "outputs": [
        {
          "output_type": "stream",
          "name": "stdout",
          "text": [
            "['Line 1\\n', 'Line 2\\n', 'Line 3']\n"
          ]
        }
      ]
    },
    {
      "cell_type": "code",
      "source": [
        "#10. How can you append data to an existing file in Python?\n",
        "with open(\"example.txt\", \"a\") as f:\n",
        "    f.write(\"\\nNew line added.\")"
      ],
      "metadata": {
        "id": "2UnVCdmslW4q"
      },
      "execution_count": null,
      "outputs": []
    },
    {
      "cell_type": "code",
      "source": [
        "#11. Write a Python program that handles an error when accessing a dictionary key that doesn’t exist.\n",
        "try:\n",
        "    data = {\"name\": \"Alex\"}\n",
        "    print(data[\"age\"])\n",
        "except KeyError:\n",
        "    print(\"Key not found.\")"
      ],
      "metadata": {
        "colab": {
          "base_uri": "https://localhost:8080/"
        },
        "id": "01vEcGdhlW8b",
        "outputId": "65468c7d-d523-4525-c6dc-1977624e4b84"
      },
      "execution_count": null,
      "outputs": [
        {
          "output_type": "stream",
          "name": "stdout",
          "text": [
            "Key not found.\n"
          ]
        }
      ]
    },
    {
      "cell_type": "code",
      "source": [
        "#12. Write a program that demonstrates using multiple except blocks.\n",
        "try:\n",
        "    x = int(\"abc\")\n",
        "    y = 10 / 0\n",
        "except ValueError:\n",
        "    print(\"Invalid input.\")\n",
        "except ZeroDivisionError:\n",
        "    print(\"Cannot divide by zero.\")"
      ],
      "metadata": {
        "colab": {
          "base_uri": "https://localhost:8080/"
        },
        "id": "SM02jCM5lXAL",
        "outputId": "884add35-b85f-4bdf-ad51-8d12478e8e7d"
      },
      "execution_count": null,
      "outputs": [
        {
          "output_type": "stream",
          "name": "stdout",
          "text": [
            "Invalid input.\n"
          ]
        }
      ]
    },
    {
      "cell_type": "code",
      "source": [
        "#13. How would you check if a file exists before attempting to read it in Python?\n",
        "import os\n",
        "\n",
        "if os.path.exists(\"example.txt\"):\n",
        "    with open(\"example.txt\") as f:\n",
        "        print(f.read())\n",
        "else:\n",
        "    print(\"File not found.\")"
      ],
      "metadata": {
        "colab": {
          "base_uri": "https://localhost:8080/"
        },
        "id": "V6GAxSgClXFU",
        "outputId": "0e2f8829-907e-434b-8f88-7f27c4666667"
      },
      "execution_count": null,
      "outputs": [
        {
          "output_type": "stream",
          "name": "stdout",
          "text": [
            "Hello, Python!\n",
            "New line added.\n"
          ]
        }
      ]
    },
    {
      "cell_type": "code",
      "source": [
        "#14. Write a program that uses logging to log both info and error messages.\n",
        "import logging\n",
        "\n",
        "logging.basicConfig(filename=\"app.log\", level=logging.INFO)\n",
        "logging.info(\"Program started\")\n",
        "try:\n",
        "    x = 10 / 0\n",
        "except ZeroDivisionError:\n",
        "    logging.error(\"Division by zero error\")"
      ],
      "metadata": {
        "colab": {
          "base_uri": "https://localhost:8080/"
        },
        "id": "dD9jRD_elXI8",
        "outputId": "724e4917-f583-4f73-a7b3-282ea8b3c20d"
      },
      "execution_count": null,
      "outputs": [
        {
          "output_type": "stream",
          "name": "stderr",
          "text": [
            "ERROR:root:Division by zero error\n"
          ]
        }
      ]
    },
    {
      "cell_type": "code",
      "source": [
        "#15. Write a Python program that prints the content of a file and handles when the file is empty.\n",
        "with open(\"example.txt\") as f:\n",
        "    content = f.read()\n",
        "    if content:\n",
        "        print(content)\n",
        "    else:\n",
        "        print(\"File is empty.\")"
      ],
      "metadata": {
        "colab": {
          "base_uri": "https://localhost:8080/"
        },
        "id": "X59JCDs8lXNw",
        "outputId": "0443f173-9363-40f8-90ac-19004eaf2d18"
      },
      "execution_count": null,
      "outputs": [
        {
          "output_type": "stream",
          "name": "stdout",
          "text": [
            "Hello, Python!\n",
            "New line added.\n"
          ]
        }
      ]
    },
    {
      "cell_type": "code",
      "source": [
        "\n",
        "#16. Demonstrate how to use memory profiling to check memory usage.\n",
        "from memory_profiler import profile\n",
        "\n",
        "@profile\n",
        "def calc():\n",
        "    data = [x**2 for x in range(10000)]\n",
        "calc()"
      ],
      "metadata": {
        "colab": {
          "base_uri": "https://localhost:8080/"
        },
        "id": "mxrsxgyDlXSg",
        "outputId": "13dc7853-63e5-478f-f181-09f3655d0f6e"
      },
      "execution_count": 10,
      "outputs": [
        {
          "output_type": "stream",
          "name": "stdout",
          "text": [
            "ERROR: Could not find file /tmp/ipython-input-3731699321.py\n"
          ]
        }
      ]
    },
    {
      "cell_type": "code",
      "source": [
        "#17. Write a Python program to create and write a list of numbers to a file, one number per line.\n",
        "numbers = [1, 2, 3, 4, 5]\n",
        "with open(\"numbers.txt\", \"w\") as f:\n",
        "    for num in numbers:\n",
        "        f.write(f\"{num}\\n\")"
      ],
      "metadata": {
        "id": "u79gAkaplXWa"
      },
      "execution_count": 11,
      "outputs": []
    },
    {
      "cell_type": "code",
      "source": [
        "#18. How would you implement a basic logging setup that logs to a file with rotation after 1MB?\n",
        "import logging\n",
        "from logging.handlers import RotatingFileHandler\n",
        "\n",
        "handler = RotatingFileHandler(\"app.log\", maxBytes=1_000_000, backupCount=2)\n",
        "logging.basicConfig(handlers=[handler], level=logging.INFO)\n",
        "logging.info(\"This is a rotating log example.\")"
      ],
      "metadata": {
        "id": "TDBpDIgelXat"
      },
      "execution_count": 12,
      "outputs": []
    },
    {
      "cell_type": "code",
      "source": [
        "#19. Write a program that handles both IndexError and KeyError using try-except.\n",
        "try:\n",
        "    lst = [1, 2]\n",
        "    print(lst[5])\n",
        "    d = {\"name\": \"Alex\"}\n",
        "    print(d[\"age\"])\n",
        "except IndexError:\n",
        "    print(\"Index out of range.\")\n",
        "except KeyError:\n",
        "    print(\"Key not found.\")"
      ],
      "metadata": {
        "colab": {
          "base_uri": "https://localhost:8080/"
        },
        "id": "7v27HT5slXfe",
        "outputId": "f51eb953-eec1-4e94-eaa9-e8ac477693f1"
      },
      "execution_count": 13,
      "outputs": [
        {
          "output_type": "stream",
          "name": "stdout",
          "text": [
            "Index out of range.\n"
          ]
        }
      ]
    },
    {
      "cell_type": "code",
      "source": [
        "#20. How would you open and read a file using a context manager in Python?\n",
        "with open(\"file.txt\", \"r\") as f:\n",
        "    print(f.read())"
      ],
      "metadata": {
        "colab": {
          "base_uri": "https://localhost:8080/"
        },
        "id": "kySo5wzalXkQ",
        "outputId": "250242ed-5391-45d5-b24b-c985d1741bbc"
      },
      "execution_count": 17,
      "outputs": [
        {
          "output_type": "stream",
          "name": "stdout",
          "text": [
            "Hello, this is a sample file.\n",
            "Welcome to Python file handling!\n"
          ]
        }
      ]
    },
    {
      "cell_type": "code",
      "source": [
        "#21. Write a Python program that reads a file and prints the number of occurrences of a specific word.\n",
        "word = \"Python\"\n",
        "count = 0\n",
        "with open(\"example.txt\") as f:\n",
        "    for line in f:\n",
        "        count += line.count(word)\n",
        "print(f\"'{word}' occurred {count} times.\")"
      ],
      "metadata": {
        "colab": {
          "base_uri": "https://localhost:8080/"
        },
        "id": "39bZx52VlXoq",
        "outputId": "6e95eec9-ecfc-4828-e1b9-22ab9f920613"
      },
      "execution_count": 20,
      "outputs": [
        {
          "output_type": "stream",
          "name": "stdout",
          "text": [
            "'Python' occurred 3 times.\n"
          ]
        }
      ]
    },
    {
      "cell_type": "code",
      "source": [
        "#22. How can you check if a file is empty before reading?\n",
        "import os\n",
        "\n",
        "if os.path.getsize(\"example.txt\") == 0:\n",
        "    print(\"File is empty.\")\n",
        "else:\n",
        "    with open(\"example.txt\") as f:\n",
        "        print(f.read())"
      ],
      "metadata": {
        "colab": {
          "base_uri": "https://localhost:8080/"
        },
        "id": "TN5TVo3HlXv3",
        "outputId": "05022aa5-0f5f-4407-cd92-f3f807e54014"
      },
      "execution_count": 23,
      "outputs": [
        {
          "output_type": "stream",
          "name": "stdout",
          "text": [
            "Python is a popular programming language.\n",
            "Many developers love Python for data science.\n",
            "Python is also great for web development.\n",
            "\n"
          ]
        }
      ]
    },
    {
      "cell_type": "code",
      "source": [
        "#23. Write a Python program that writes to a log file when an error occurs during file handling.\n",
        "import logging\n",
        "\n",
        "logging.basicConfig(filename=\"file_error.log\", level=logging.ERROR)\n",
        "\n",
        "try:\n",
        "    with open(\"nofile.txt\") as f:\n",
        "        print(f.read())\n",
        "except Exception as e:\n",
        "    logging.error(f\"Error: {e}\")"
      ],
      "metadata": {
        "colab": {
          "base_uri": "https://localhost:8080/"
        },
        "id": "5XA-K0ZqlX2H",
        "outputId": "33d29b50-3c56-4207-e0bf-6065e2c3d11f"
      },
      "execution_count": 24,
      "outputs": [
        {
          "output_type": "stream",
          "name": "stderr",
          "text": [
            "ERROR:root:Error: [Errno 2] No such file or directory: 'nofile.txt'\n"
          ]
        }
      ]
    }
  ]
}